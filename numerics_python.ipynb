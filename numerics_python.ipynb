{
 "cells": [
  {
   "cell_type": "code",
   "execution_count": 150,
   "metadata": {},
   "outputs": [],
   "source": [
    "import numpy as np\n",
    "import math as m\n",
    "import scipy as sp"
   ]
  },
  {
   "cell_type": "code",
   "execution_count": 104,
   "metadata": {},
   "outputs": [],
   "source": [
    "class NormalRV:\n",
    "    def __init__(self, mu, Sigma):\n",
    "        self.mu = mu\n",
    "        self.Sigma = Sigma\n",
    "        self.S = np.linalg.inv(Sigma)\n",
    "        self.m = self.S@self.mu\n",
    "    \n",
    "    def pdf(self, x):\n",
    "        # x a numpy array\n",
    "        # should work if x is a matrix, applying the pdf to each column\n",
    "        mu = self.mu\n",
    "        Sigma = self.Sigma\n",
    "        d = len(mu)\n",
    "        x = np.asarray(x)\n",
    "        if x.ndim == 1:\n",
    "            x = x[:, np.newaxis]\n",
    "        n = x.shape[1]\n",
    "        pdf = np.zeros(n)\n",
    "        for i in range(n):\n",
    "            pdf[i] = 1/np.sqrt((2*np.pi)**d * np.linalg.det(Sigma)) * \\\n",
    "                np.exp(-1/2 * (x[:,i] - mu).T @ np.linalg.inv(Sigma) @ (x[:,i] - mu))\n",
    "        return pdf\n",
    "\n",
    "    def sample(self, n):\n",
    "        # n: number of samples\n",
    "        mu = self.mu\n",
    "        Sigma = self.Sigma\n",
    "        return np.random.multivariate_normal(mu, Sigma, n).T\n",
    "    \n",
    "    def update_vals(self, m, S):\n",
    "        self.m = m\n",
    "        self.S = S\n",
    "        self.Sigma = np.linalg.inv(S)\n",
    "        self.mu = self.Sigma@m\n",
    "        "
   ]
  },
  {
   "cell_type": "code",
   "execution_count": 105,
   "metadata": {},
   "outputs": [],
   "source": [
    "q = NormalRV(np.array([0,0]), np.array([[1,0],[0,1]]))\n",
    "pi = NormalRV(np.array([1,1]), np.array([[1,0],[0,1]]))\n",
    "\n",
    "\n"
   ]
  },
  {
   "cell_type": "code",
   "execution_count": 106,
   "metadata": {},
   "outputs": [],
   "source": [
    "def partial_lq_m(x, p):\n",
    "    return x - np.reshape(p.mu, (len(p.mu), 1))\n",
    "\n",
    "def partial_lq_S(x, p):\n",
    "    # x can be a matrix, each column is a sample\n",
    "    # in this case, return a 3D array, each slice is a matrix  \n",
    "    # (i.e. a 2D array) corresponding to a sample\n",
    "    x = np.asarray(x)\n",
    "    if x.ndim == 1:\n",
    "        x = x[:, np.newaxis]\n",
    "    n = x.shape[1]\n",
    "    d = len(p.mu)\n",
    "    res = np.zeros((d,d,n))\n",
    "    for i in range(n):\n",
    "        xi = x[:,i]\n",
    "        res[:,:,i] = -0.5*(np.outer(xi, xi) - np.outer(p.mu, p.mu)- p.Sigma)\n",
    "    return res\n"
   ]
  },
  {
   "cell_type": "code",
   "execution_count": 107,
   "metadata": {},
   "outputs": [],
   "source": [
    "def is_pd(M):\n",
    "\n",
    "    # efficient check if a matrix is positive-definite\n",
    "    # from https://stackoverflow.com/questions/16266720/find-out-if-matrix-is-positive-definite-with-numpy\n",
    "\n",
    "    try:\n",
    "        _ = np.linalg.cholesky(M)\n",
    "        return True\n",
    "    except np.linalg.LinAlgError:\n",
    "        return False"
   ]
  },
  {
   "cell_type": "code",
   "execution_count": 108,
   "metadata": {},
   "outputs": [],
   "source": [
    "def project_pd(M, eps=1e-6):\n",
    "    # project a matrix to the positive definite cone\n",
    "    # M: a symmetric matrix\n",
    "    # return: a symmetric matrix\n",
    "    if is_pd(M):\n",
    "        return M\n",
    "\n",
    "    # eigen decomposition\n",
    "    eig_vals, eig_vecs = np.linalg.eig(M)\n",
    "    # set negative eigenvalues to eps\n",
    "    eig_vals[eig_vals <= 0] = eps\n",
    "    # reconstruct matrix\n",
    "    return eig_vecs @ np.diag(eig_vals) @ eig_vecs.T\n"
   ]
  },
  {
   "cell_type": "code",
   "execution_count": 153,
   "metadata": {},
   "outputs": [
    {
     "name": "stderr",
     "output_type": "stream",
     "text": [
      "/var/folders/82/t8qzqs6x2f19402hdk543xd80000gn/T/ipykernel_41368/469297332.py:9: RuntimeWarning: invalid value encountered in double_scalars\n",
      "  integral = np.mean(w*phi_samples)/np.mean(w)\n"
     ]
    },
    {
     "data": {
      "text/plain": [
       "array([0.05357321, 0.02769911, 0.00856259, 0.01229092, 0.01493629,\n",
       "       0.01246199, 0.02993752, 0.01543226, 0.00386318, 0.03396258,\n",
       "       0.02786853, 0.04218538, 0.0268192 , 0.00087089, 0.0533944 ,\n",
       "       0.03151307, 0.00648567, 0.00138014, 0.01964687, 0.07567072,\n",
       "       0.10349292,        nan,        nan,        nan,        nan,\n",
       "              nan,        nan,        nan,        nan,        nan,\n",
       "              nan,        nan,        nan,        nan,        nan,\n",
       "              nan,        nan,        nan,        nan,        nan,\n",
       "              nan,        nan,        nan,        nan,        nan,\n",
       "              nan,        nan,        nan,        nan,        nan,\n",
       "              nan,        nan,        nan,        nan,        nan,\n",
       "              nan,        nan,        nan,        nan,        nan,\n",
       "              nan,        nan,        nan,        nan,        nan,\n",
       "              nan,        nan,        nan,        nan,        nan,\n",
       "              nan,        nan,        nan,        nan,        nan,\n",
       "              nan,        nan,        nan,        nan,        nan,\n",
       "              nan,        nan,        nan,        nan,        nan,\n",
       "              nan,        nan,        nan,        nan,        nan,\n",
       "              nan,        nan,        nan,        nan,        nan,\n",
       "              nan,        nan,        nan,        nan,        nan])"
      ]
     },
     "execution_count": 153,
     "metadata": {},
     "output_type": "execute_result"
    }
   ],
   "source": [
    "def OAIS(phi, pi, q0, lr, nsamples, niter):\n",
    "    results = []\n",
    "    for i in range(niter):\n",
    "        # compute inner product\n",
    "        samples = q0.sample(nsamples)\n",
    "        w = pi.pdf(samples) / q0.pdf(samples)\n",
    "        w2 = w**2\n",
    "        phi_samples = np.apply_along_axis(phi, 0, samples)\n",
    "        integral = np.mean(w*phi_samples)/np.mean(w)\n",
    "\n",
    "        # update q0\n",
    "        results.append(integral)\n",
    "        partial_m = partial_lq_m(samples, q0)\n",
    "        update_m = -np.mean(w2 * partial_m, axis=1)\n",
    "        \n",
    "        partial_S = partial_lq_S(samples, q0)\n",
    "        update_S = -np.mean(w2*partial_S, axis=2)\n",
    "        \n",
    "        new_S = project_pd(q0.S + lr*update_S)\n",
    "        new_m = q0.m + lr*update_m\n",
    "        q0.update_vals(new_m, new_S)\n",
    "\n",
    "    return results\n",
    "        \n",
    "        \n",
    "        \n",
    "q = NormalRV(np.array([1,1]), np.array([[1,0],[0,1]]))\n",
    "pi = NormalRV(np.array([0,0]), np.array([[1,0],[0,1]]))\n",
    "\n",
    "def phi(x):\n",
    "    if np.abs(x[0]) < 0.5 and np.abs(x[1]) < 0.5:\n",
    "        return 1\n",
    "    else:\n",
    "        return 0\n",
    "e = OAIS(phi, pi, q, 0.001, 1000, 100)\n",
    "e\n",
    "\n",
    "v = sp.stats.norm.cdf(0.5) - sp.stats.norm.cdf(-0.5)\n",
    "np.abs(e - v**2)\n"
   ]
  },
  {
   "cell_type": "code",
   "execution_count": 146,
   "metadata": {},
   "outputs": [
    {
     "data": {
      "text/plain": [
       "-0.5204998778130465"
      ]
     },
     "execution_count": 146,
     "metadata": {},
     "output_type": "execute_result"
    }
   ],
   "source": [
    "m.erf(-0.5)"
   ]
  },
  {
   "cell_type": "code",
   "execution_count": null,
   "metadata": {},
   "outputs": [],
   "source": []
  }
 ],
 "metadata": {
  "kernelspec": {
   "display_name": "pytorch",
   "language": "python",
   "name": "python3"
  },
  "language_info": {
   "codemirror_mode": {
    "name": "ipython",
    "version": 3
   },
   "file_extension": ".py",
   "mimetype": "text/x-python",
   "name": "python",
   "nbconvert_exporter": "python",
   "pygments_lexer": "ipython3",
   "version": "3.9.15"
  },
  "orig_nbformat": 4
 },
 "nbformat": 4,
 "nbformat_minor": 2
}
