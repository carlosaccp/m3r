{
 "cells": [
  {
   "cell_type": "code",
   "execution_count": 150,
   "metadata": {},
   "outputs": [],
   "source": [
    "import numpy as np\n",
    "import math as m\n",
    "import scipy as sp"
   ]
  },
  {
   "cell_type": "code",
   "execution_count": 104,
   "metadata": {},
   "outputs": [],
   "source": [
    "class NormalRV:\n",
    "    def __init__(self, mu, Sigma):\n",
    "        self.mu = mu\n",
    "        self.Sigma = Sigma\n",
    "        self.S = np.linalg.inv(Sigma)\n",
    "        self.m = self.S@self.mu\n",
    "    \n",
    "    def pdf(self, x):\n",
    "        # x a numpy array\n",
    "        # should work if x is a matrix, applying the pdf to each column\n",
    "        mu = self.mu\n",
    "        Sigma = self.Sigma\n",
    "        d = len(mu)\n",
    "        x = np.asarray(x)\n",
    "        if x.ndim == 1:\n",
    "            x = x[:, np.newaxis]\n",
    "        n = x.shape[1]\n",
    "        pdf = np.zeros(n)\n",
    "        for i in range(n):\n",
    "            pdf[i] = 1/np.sqrt((2*np.pi)**d * np.linalg.det(Sigma)) * \\\n",
    "                np.exp(-1/2 * (x[:,i] - mu).T @ np.linalg.inv(Sigma) @ (x[:,i] - mu))\n",
    "        return pdf\n",
    "\n",
    "    def sample(self, n):\n",
    "        # n: number of samples\n",
    "        mu = self.mu\n",
    "        Sigma = self.Sigma\n",
    "        return np.random.multivariate_normal(mu, Sigma, n).T\n",
    "    \n",
    "    def update_vals(self, m, S):\n",
    "        self.m = m\n",
    "        self.S = S\n",
    "        self.Sigma = np.linalg.inv(S)\n",
    "        self.mu = self.Sigma@m\n",
    "        "
   ]
  },
  {
   "cell_type": "code",
   "execution_count": 105,
   "metadata": {},
   "outputs": [],
   "source": [
    "q = NormalRV(np.array([0,0]), np.array([[1,0],[0,1]]))\n",
    "pi = NormalRV(np.array([1,1]), np.array([[1,0],[0,1]]))\n",
    "\n",
    "\n"
   ]
  },
  {
   "cell_type": "code",
   "execution_count": 106,
   "metadata": {},
   "outputs": [],
   "source": [
    "def partial_lq_m(x, p):\n",
    "    return x - np.reshape(p.mu, (len(p.mu), 1))\n",
    "\n",
    "def partial_lq_S(x, p):\n",
    "    # x can be a matrix, each column is a sample\n",
    "    # in this case, return a 3D array, each slice is a matrix  \n",
    "    # (i.e. a 2D array) corresponding to a sample\n",
    "    x = np.asarray(x)\n",
    "    if x.ndim == 1:\n",
    "        x = x[:, np.newaxis]\n",
    "    n = x.shape[1]\n",
    "    d = len(p.mu)\n",
    "    res = np.zeros((d,d,n))\n",
    "    for i in range(n):\n",
    "        xi = x[:,i]\n",
    "        res[:,:,i] = -0.5*(np.outer(xi, xi) - np.outer(p.mu, p.mu)- p.Sigma)\n",
    "    return res\n"
   ]
  },
  {
   "cell_type": "code",
   "execution_count": 107,
   "metadata": {},
   "outputs": [],
   "source": [
    "def is_pd(M):\n",
    "\n",
    "    # efficient check if a matrix is positive-definite\n",
    "    # from https://stackoverflow.com/questions/16266720/find-out-if-matrix-is-positive-definite-with-numpy\n",
    "\n",
    "    try:\n",
    "        _ = np.linalg.cholesky(M)\n",
    "        return True\n",
    "    except np.linalg.LinAlgError:\n",
    "        return False"
   ]
  },
  {
   "cell_type": "code",
   "execution_count": 108,
   "metadata": {},
   "outputs": [],
   "source": [
    "def project_pd(M, eps=1e-6):\n",
    "    # project a matrix to the positive definite cone\n",
    "    # M: a symmetric matrix\n",
    "    # return: a symmetric matrix\n",
    "    if is_pd(M):\n",
    "        return M\n",
    "\n",
    "    # eigen decomposition\n",
    "    eig_vals, eig_vecs = np.linalg.eig(M)\n",
    "    # set negative eigenvalues to eps\n",
    "    eig_vals[eig_vals <= 0] = eps\n",
    "    # reconstruct matrix\n",
    "    return eig_vecs @ np.diag(eig_vals) @ eig_vecs.T\n"
   ]
  },
  {
   "cell_type": "code",
   "execution_count": 155,
   "metadata": {},
   "outputs": [
    {
     "data": {
      "text/plain": [
       "array([1.87241968e-02, 1.00668832e-02, 2.00480191e-02, 3.78777418e-02,\n",
       "       1.49069918e-02, 4.69667040e-03, 8.23680531e-04, 2.48697595e-02,\n",
       "       1.31624154e-02, 1.25976904e-02, 1.40364605e-03, 2.76616049e-03,\n",
       "       1.18906455e-02, 1.71286431e-02, 3.84074106e-03, 6.99387456e-03,\n",
       "       1.17330653e-02, 3.31187344e-03, 5.12995674e-03, 1.09078225e-02,\n",
       "       1.42560943e-02, 4.40111412e-03, 4.99023919e-03, 1.37956929e-02,\n",
       "       2.27256693e-03, 9.14862037e-03, 8.64406586e-03, 6.84244680e-03,\n",
       "       8.81585141e-03, 7.59101649e-03, 2.15738793e-02, 1.04114275e-02,\n",
       "       1.30551365e-02, 2.70749850e-03, 1.88390741e-03, 1.06892914e-03,\n",
       "       6.78827805e-03, 5.96634455e-03, 3.43927460e-03, 8.14629908e-03,\n",
       "       3.93164844e-03, 9.32632079e-03, 4.95224502e-03, 3.64558964e-03,\n",
       "       2.81640355e-03, 7.31097219e-04, 4.68116986e-03, 1.22401830e-02,\n",
       "       1.05756227e-02, 1.83059997e-02, 2.97963286e-03, 1.53645565e-02,\n",
       "       4.53451248e-03, 9.18877762e-03, 3.84887453e-03, 7.73389551e-03,\n",
       "       3.93564884e-03, 1.00777932e-02, 6.44190457e-03, 1.95416464e-03,\n",
       "       1.67802145e-02, 5.99707253e-07, 2.26421111e-04, 1.73470181e-02,\n",
       "       5.04553375e-03, 6.07314152e-03, 1.31562003e-03, 1.10695535e-02,\n",
       "       9.51349117e-03, 1.64816574e-02, 2.31615957e-02, 2.77701494e-03,\n",
       "       6.42156850e-03, 7.44946075e-03, 1.67151966e-02, 2.02372514e-02,\n",
       "       4.88930352e-03, 1.34638875e-02, 2.03568640e-02, 1.20991648e-02,\n",
       "       1.27372523e-02, 3.49121655e-04, 6.29118905e-03, 1.49543653e-02,\n",
       "       4.35614002e-03, 5.14021561e-03, 7.98966473e-03, 7.44034116e-03,\n",
       "       5.18858799e-03, 9.42825414e-03, 6.95518033e-03, 3.35436402e-03,\n",
       "       1.67777421e-02, 1.23527375e-02, 7.92597233e-03, 2.41268532e-03,\n",
       "       3.28998705e-03, 5.99764593e-04, 5.93952892e-03, 1.01101445e-02])"
      ]
     },
     "execution_count": 155,
     "metadata": {},
     "output_type": "execute_result"
    }
   ],
   "source": [
    "def OAIS(phi, pi, q0, lr, nsamples, niter):\n",
    "    results = []\n",
    "    for _ in range(niter):\n",
    "        # compute inner product\n",
    "        samples = q0.sample(nsamples)\n",
    "        w = pi.pdf(samples) / q0.pdf(samples) # compute w as we have access to pi\n",
    "        w2 = w**2\n",
    "        phi_samples = np.apply_along_axis(phi, 0, samples)\n",
    "        integral = np.mean(w*phi_samples)/np.mean(w)\n",
    "\n",
    "        # update q0\n",
    "        results.append(integral)\n",
    "        partial_m = partial_lq_m(samples, q0)\n",
    "        update_m = -np.mean(w2 * partial_m, axis=1)\n",
    "        \n",
    "        partial_S = partial_lq_S(samples, q0)\n",
    "        update_S = -np.mean(w2*partial_S, axis=2)\n",
    "        \n",
    "        new_S = project_pd(q0.S - lr*update_S)\n",
    "        new_m = q0.m - lr*update_m\n",
    "        q0.update_vals(new_m, new_S)\n",
    "\n",
    "    return results\n",
    "        \n",
    "        \n",
    "        \n",
    "q = NormalRV(np.array([1,1]), np.array([[1,0],[0,1]]))\n",
    "pi = NormalRV(np.array([0,0]), np.array([[1,0],[0,1]]))\n",
    "\n",
    "def phi(x):\n",
    "    # indicator function for square [-0.5, 0.5]^2\n",
    "    if np.abs(x[0]) < 0.5 and np.abs(x[1]) < 0.5:\n",
    "        return 1\n",
    "    else:\n",
    "        return 0\n",
    "e = OAIS(phi, pi, q, 0.01, 1000, 100)\n",
    "\n",
    "v = sp.stats.norm.cdf(0.5) - sp.stats.norm.cdf(-0.5)\n",
    "np.abs(e - v**2)\n"
   ]
  },
  {
   "cell_type": "code",
   "execution_count": 146,
   "metadata": {},
   "outputs": [
    {
     "data": {
      "text/plain": [
       "-0.5204998778130465"
      ]
     },
     "execution_count": 146,
     "metadata": {},
     "output_type": "execute_result"
    }
   ],
   "source": [
    "m.erf(-0.5)"
   ]
  },
  {
   "cell_type": "code",
   "execution_count": null,
   "metadata": {},
   "outputs": [],
   "source": []
  }
 ],
 "metadata": {
  "kernelspec": {
   "display_name": "pytorch",
   "language": "python",
   "name": "python3"
  },
  "language_info": {
   "codemirror_mode": {
    "name": "ipython",
    "version": 3
   },
   "file_extension": ".py",
   "mimetype": "text/x-python",
   "name": "python",
   "nbconvert_exporter": "python",
   "pygments_lexer": "ipython3",
   "version": "3.9.15"
  },
  "orig_nbformat": 4
 },
 "nbformat": 4,
 "nbformat_minor": 2
}
