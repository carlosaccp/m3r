{
 "cells": [
  {
   "attachments": {},
   "cell_type": "markdown",
   "metadata": {},
   "source": [
    "# OAIS Numerics"
   ]
  },
  {
   "cell_type": "code",
   "execution_count": 20,
   "metadata": {},
   "outputs": [],
   "source": [
    "using LinearAlgebra, Distributions, AutoGrad"
   ]
  },
  {
   "cell_type": "code",
   "execution_count": 21,
   "metadata": {},
   "outputs": [
    {
     "data": {
      "text/plain": [
       "sample_gaussian (generic function with 1 method)"
      ]
     },
     "metadata": {},
     "output_type": "display_data"
    }
   ],
   "source": [
    "function sample_gaussian(μ, Σ)\n",
    "    return rand(MvNormal(μ, Σ))\n",
    "end"
   ]
  },
  {
   "attachments": {},
   "cell_type": "markdown",
   "metadata": {},
   "source": [
    "Say we have a normal distribution with mean $\\mu^t=\\begin{pmatrix} 1\\\\ 1\\end{pmatrix}$ and standard deviation $\\Sigma^t = \\begin{pmatrix} 5 & 3\\\\ 3 & 5 \\end{pmatrix}$."
   ]
  },
  {
   "cell_type": "code",
   "execution_count": 10,
   "metadata": {},
   "outputs": [
    {
     "data": {
      "text/plain": [
       "πᶠ (generic function with 1 method)"
      ]
     },
     "metadata": {},
     "output_type": "display_data"
    }
   ],
   "source": [
    "μᵗ = [1;1]\n",
    "Σᵗ = [5 3; 3 5]\n",
    "\n",
    "function πᶠ(x)\n",
    "    ret = 1/(2*π*sqrt(det(Σᵗ)))*exp.(-0.5.*(x-μᵗ)'*inv(Σᵗ)*(x-μᵗ))\n",
    "    ret\n",
    "end\n",
    "\n"
   ]
  },
  {
   "attachments": {},
   "cell_type": "markdown",
   "metadata": {},
   "source": [
    "We now initialise our proposal to be a standard 2D normal distribution with mean $\\mu_0 = \\begin{pmatrix} 0\\\\ 0\\end{pmatrix}$ and standard deviation $\\Sigma_0 = \\begin{pmatrix} 1 & 0\\\\ 0 & 1 \\end{pmatrix}$. \n",
    "\n",
    "Recall we are trying to optimise the rho function, which is the ratio of the target distribution to the proposal distribution. \n",
    "\n",
    "$$\n",
    "\\rho(\\theta) = \\mathbb{E}\\left[\\frac{}{}\\right]\n",
    "$$"
   ]
  },
  {
   "cell_type": "code",
   "execution_count": 12,
   "metadata": {},
   "outputs": [
    {
     "data": {
      "text/plain": [
       "1-element Vector{Float64}:\n",
       " 0.02129737554880663"
      ]
     },
     "metadata": {},
     "output_type": "display_data"
    }
   ],
   "source": [
    "πᶠ([1;3])"
   ]
  },
  {
   "cell_type": "code",
   "execution_count": 80,
   "metadata": {},
   "outputs": [
    {
     "data": {
      "text/plain": [
       "mc (generic function with 2 methods)"
      ]
     },
     "metadata": {},
     "output_type": "display_data"
    }
   ],
   "source": [
    "function q(θₖ, x)\n",
    "    μₖ, Σₖ = θₖ\n",
    "    1/(2*pi*sqrt(det(Σₖ)))*exp(-0.5*(x-μₖ)'*inv(Σₖ)*(x-μₖ))\n",
    "end\n",
    "\n",
    "function ρ(θₖ, N=1_000)\n",
    "    μₖ, Σₖ = θₖ\n",
    "    x = sample_gaussian(μₖ, Σₖ)\n",
    "    ret = (πᶠ(x).^2)./(q(θₖ, x).^2)/N\n",
    "    ret\n",
    "end\n",
    "\n",
    "function ∇ρ(θₖ, N=1_000, h=1e-6)\n",
    "    μₖ, Σₖ = θₖ\n",
    "    ∂ρ∂μ = (ρ([μₖ.+h, Σₖ], N) - ρ([μₖ.-h, Σₖ], N))/(2h) .* ones(size(μₖ))\n",
    "    ∂ρ∂Σ = (ρ([μₖ, Σₖ.+h], N) - ρ([μₖ, Σₖ.-h], N))/(2h) .* ones(size(Σₖ))\n",
    "    [∂ρ∂μ, ∂ρ∂Σ]\n",
    "end\n",
    "\n",
    "function mc(φ, θₖ, N=1_000)\n",
    "    # montecarlo integral\n",
    "    μₖ, Σₖ = θₖ\n",
    "    x = [sample_gaussian(μₖ, Σₖ) for i in 1:N]\n",
    "    q_t = x -> q(θₖ, x)\n",
    "    wₜ = πᶠ.(x)./(q_t.(x))\n",
    "    ret = sum(wₜ .* φ.(x))/N\n",
    "    ret\n",
    "end\n",
    "\n",
    "f = x -> √(x[1]^2 + x[2]^2)\n"
   ]
  },
  {
   "attachments": {},
   "cell_type": "markdown",
   "metadata": {},
   "source": [
    "Optimization loop"
   ]
  },
  {
   "cell_type": "code",
   "execution_count": 85,
   "metadata": {},
   "outputs": [
    {
     "ename": "PosDefException",
     "evalue": "PosDefException: matrix is not positive definite; Cholesky factorization failed.",
     "output_type": "error",
     "traceback": [
      "PosDefException: matrix is not positive definite; Cholesky factorization failed.\n",
      "\n",
      "Stacktrace:\n",
      "  [1] checkpositivedefinite\n",
      "    @ /Applications/Julia-1.7.app/Contents/Resources/julia/share/julia/stdlib/v1.7/LinearAlgebra/src/factorization.jl:18 [inlined]\n",
      "  [2] cholesky!(A::Hermitian{Float64, Matrix{Float64}}, ::Val{false}; check::Bool)\n",
      "    @ LinearAlgebra /Applications/Julia-1.7.app/Contents/Resources/julia/share/julia/stdlib/v1.7/LinearAlgebra/src/cholesky.jl:266\n",
      "  [3] cholesky!(A::Matrix{Float64}, ::Val{false}; check::Bool)\n",
      "    @ LinearAlgebra /Applications/Julia-1.7.app/Contents/Resources/julia/share/julia/stdlib/v1.7/LinearAlgebra/src/cholesky.jl:298\n",
      "  [4] #cholesky#143\n",
      "    @ /Applications/Julia-1.7.app/Contents/Resources/julia/share/julia/stdlib/v1.7/LinearAlgebra/src/cholesky.jl:394 [inlined]\n",
      "  [5] cholesky (repeats 2 times)\n",
      "    @ /Applications/Julia-1.7.app/Contents/Resources/julia/share/julia/stdlib/v1.7/LinearAlgebra/src/cholesky.jl:394 [inlined]\n",
      "  [6] PDMat\n",
      "    @ ~/.julia/packages/PDMats/CbBv1/src/pdmat.jl:19 [inlined]\n",
      "  [7] MvNormal(μ::Vector{Float64}, Σ::Matrix{Float64})\n",
      "    @ Distributions ~/.julia/packages/Distributions/YQQXX/src/multivariate/mvnormal.jl:201\n",
      "  [8] sample_gaussian\n",
      "    @ ~/Desktop/M3R/numerics.ipynb:2 [inlined]\n",
      "  [9] #236\n",
      "    @ ./none:0 [inlined]\n",
      " [10] iterate\n",
      "    @ ./generator.jl:47 [inlined]\n",
      " [11] collect(itr::Base.Generator{UnitRange{Int64}, var\"#236#238\"{Matrix{Float64}, Vector{Float64}}})\n",
      "    @ Base ./array.jl:724\n",
      " [12] mc(φ::Function, θₖ::Vector{Array{Float64}}, N::Int64)\n",
      "    @ Main ~/Desktop/M3R/numerics.ipynb:23\n",
      " [13] mc(φ::Function, θₖ::Vector{Array{Float64}})\n",
      "    @ Main ~/Desktop/M3R/numerics.ipynb:22\n",
      " [14] top-level scope\n",
      "    @ ~/Desktop/M3R/numerics.ipynb:6"
     ]
    }
   ],
   "source": [
    "lr = 0.01\n",
    "θₖ = [[1;1], [5 3; 3 5]]\n",
    "mcs = []\n",
    "for i in 1:100\n",
    "    θₖ = θₖ - lr .* ∇ρ(θₖ)\n",
    "    eigen(θₖ[1])[1][1] < 0\n",
    "    push!(mcs, mc(f, θₖ))\n",
    "end"
   ]
  },
  {
   "cell_type": "code",
   "execution_count": null,
   "metadata": {},
   "outputs": [],
   "source": []
  }
 ],
 "metadata": {
  "kernelspec": {
   "display_name": "Julia 1.7.1",
   "language": "julia",
   "name": "julia-1.7"
  },
  "language_info": {
   "file_extension": ".jl",
   "mimetype": "application/julia",
   "name": "julia",
   "version": "1.7.1"
  },
  "orig_nbformat": 4
 },
 "nbformat": 4,
 "nbformat_minor": 2
}
