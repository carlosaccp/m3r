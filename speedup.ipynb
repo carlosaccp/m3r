{
 "cells": [
  {
   "cell_type": "code",
   "execution_count": 3,
   "metadata": {},
   "outputs": [
    {
     "ename": "KeyboardInterrupt",
     "evalue": "",
     "output_type": "error",
     "traceback": [
      "\u001b[0;31m---------------------------------------------------------------------------\u001b[0m",
      "\u001b[0;31mKeyboardInterrupt\u001b[0m                         Traceback (most recent call last)",
      "Cell \u001b[0;32mIn[3], line 27\u001b[0m\n\u001b[1;32m     25\u001b[0m     \u001b[39m# Write the frame multiple times to speed it up\u001b[39;00m\n\u001b[1;32m     26\u001b[0m     \u001b[39mfor\u001b[39;00m _ \u001b[39min\u001b[39;00m \u001b[39mrange\u001b[39m(\u001b[39m60\u001b[39m):\n\u001b[0;32m---> 27\u001b[0m         output\u001b[39m.\u001b[39;49mwrite(frame)\n\u001b[1;32m     29\u001b[0m \u001b[39m# Release the video objects\u001b[39;00m\n\u001b[1;32m     30\u001b[0m video\u001b[39m.\u001b[39mrelease()\n",
      "\u001b[0;31mKeyboardInterrupt\u001b[0m: "
     ]
    }
   ],
   "source": [
    "import cv2\n",
    "\n",
    "# Input and output video file paths\n",
    "input_file = \"/Users/carlosperello/Desktop/M3R/figs/beta/betaOAIS.mp4\"\n",
    "output_file = \"/Users/carlosperello/Desktop/M3R/figs/beta/betaOAIS_faster.mp4\"\n",
    "\n",
    "# Open the input video file\n",
    "video = cv2.VideoCapture(input_file)\n",
    "\n",
    "# Get the video's frame rate\n",
    "fps = video.get(cv2.CAP_PROP_FPS)\n",
    "\n",
    "# Define the output video codec and create a VideoWriter object\n",
    "fourcc = cv2.VideoWriter_fourcc(*'mp4v')\n",
    "output = cv2.VideoWriter(output_file, fourcc, fps * 60, (int(video.get(3)), int(video.get(4))))\n",
    "\n",
    "# Read and write each frame with speedup\n",
    "while True:\n",
    "    \n",
    "    ret, frame = video.read()\n",
    "\n",
    "    if not ret:\n",
    "        break\n",
    "\n",
    "    # Write the frame multiple times to speed it up\n",
    "    for _ in range(60):\n",
    "        output.write(frame)\n",
    "\n",
    "# Release the video objects\n",
    "video.release()\n",
    "output.release()\n"
   ]
  },
  {
   "cell_type": "code",
   "execution_count": 2,
   "metadata": {},
   "outputs": [],
   "source": [
    "import cv2\n",
    "\n",
    "# Input and output video file paths\n",
    "input_file = \"/Users/carlosperello/Desktop/M3R/figs/beta/betaOAIS.mp4\"\n",
    "output_file = \"/Users/carlosperello/Desktop/M3R/figs/beta/betaOAIS_faster.mp4\"\n",
    "\n",
    "# Open the input video file\n",
    "video = cv2.VideoCapture(input_file)\n",
    "\n",
    "# Get the video's frame rate\n",
    "fps = video.get(cv2.CAP_PROP_FPS)\n",
    "\n",
    "# Define the output video codec and create a VideoWriter object\n",
    "fourcc = cv2.VideoWriter_fourcc(*'mp4v')\n",
    "output = cv2.VideoWriter(output_file, fourcc, fps / 60, (int(video.get(3)), int(video.get(4))))\n",
    "\n",
    "# Read and write each frame with speedup\n",
    "while True:\n",
    "    ret, frame = video.read()\n",
    "\n",
    "    if not ret:\n",
    "        break\n",
    "\n",
    "    # Write each frame only once\n",
    "    output.write(frame)\n",
    "\n",
    "# Release the video objects\n",
    "video.release()\n",
    "output.release()\n"
   ]
  },
  {
   "cell_type": "code",
   "execution_count": null,
   "metadata": {},
   "outputs": [],
   "source": []
  }
 ],
 "metadata": {
  "kernelspec": {
   "display_name": "tf",
   "language": "python",
   "name": "python3"
  },
  "language_info": {
   "codemirror_mode": {
    "name": "ipython",
    "version": 3
   },
   "file_extension": ".py",
   "mimetype": "text/x-python",
   "name": "python",
   "nbconvert_exporter": "python",
   "pygments_lexer": "ipython3",
   "version": "3.9.15"
  },
  "orig_nbformat": 4
 },
 "nbformat": 4,
 "nbformat_minor": 2
}
