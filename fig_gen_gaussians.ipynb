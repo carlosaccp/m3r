{
 "cells": [
  {
   "cell_type": "code",
   "execution_count": 1,
   "metadata": {},
   "outputs": [
    {
     "name": "stderr",
     "output_type": "stream",
     "text": [
      "100%|██████████| 30000/30000 [04:43<00:00, 105.70it/s]\n",
      "100%|██████████| 10000/10000 [01:35<00:00, 104.34it/s]\n",
      "100%|██████████| 30000/30000 [04:45<00:00, 105.23it/s]\n",
      "100%|██████████| 10000/10000 [01:35<00:00, 105.07it/s]\n",
      "100%|██████████| 30000/30000 [04:43<00:00, 105.68it/s]\n",
      "100%|██████████| 10000/10000 [01:35<00:00, 105.15it/s]\n",
      "100%|██████████| 30000/30000 [04:44<00:00, 105.52it/s]\n",
      "100%|██████████| 10000/10000 [01:35<00:00, 104.68it/s]\n",
      "100%|██████████| 30000/30000 [04:44<00:00, 105.46it/s]\n",
      "100%|██████████| 10000/10000 [01:35<00:00, 105.03it/s]\n",
      "100%|██████████| 30000/30000 [04:43<00:00, 105.89it/s]\n",
      "100%|██████████| 10000/10000 [01:34<00:00, 105.55it/s]\n",
      "100%|██████████| 30000/30000 [04:43<00:00, 105.96it/s]\n",
      "100%|██████████| 10000/10000 [01:34<00:00, 105.29it/s]\n",
      "100%|██████████| 30000/30000 [04:43<00:00, 105.80it/s]\n",
      "100%|██████████| 10000/10000 [01:34<00:00, 105.30it/s]\n",
      "100%|██████████| 30000/30000 [04:43<00:00, 105.71it/s]\n",
      "100%|██████████| 10000/10000 [01:35<00:00, 105.17it/s]\n",
      "100%|██████████| 30000/30000 [04:44<00:00, 105.47it/s]\n",
      "100%|██████████| 10000/10000 [01:34<00:00, 105.40it/s]\n"
     ]
    }
   ],
   "source": [
    "import numpy as np\n",
    "import matplotlib.pyplot as plt\n",
    "from tqdm import tqdm\n",
    "from nsimpkg.random_variables import NormalRV, MixNormalRV, average_normal_dist\n",
    "from nsimpkg.gaussian_OAIS import AdaGrad_OAIS, Adam_OAIS\n",
    "from nsimpkg.mcsim import mcsim, rho\n",
    "from nsimpkg.plotting import plot_contours, plotter, fill_z\n",
    "np.random.seed(0)\n",
    "\n",
    "plt.rcParams['figure.dpi'] = 300\n",
    "\n",
    "q = NormalRV(np.array([10, -10]), np.array([[40, 0], [0, 40]]))\n",
    "pi = NormalRV(np.array([1, -1]), np.array([[2, -0.5], [-0.5, 2]]))\n",
    "GT = 0.195595\n",
    "\n",
    "def phi(x):\n",
    "    return (np.sum(np.abs(x) < 1, axis=0) == 2).astype(int)\n",
    "\n",
    "N = 1000\n",
    "nexperiments = 10\n",
    "Niter_AdaGrad = 3*int(1e4)\n",
    "Niter_Adam = int(1e4)\n",
    "alpha_AdaGrad = 1e-1\n",
    "alpha_Adam = 1e-2\n",
    "results_array_Adam = []\n",
    "results_array_AdaGrad = []\n",
    "distribution_array_Adam = []\n",
    "distribution_array_AdaGrad = []\n",
    "for _ in range(nexperiments):\n",
    "    r_AdaGrad, d_AdaGrad = AdaGrad_OAIS(phi, pi, q, N, Niter_AdaGrad, alpha=alpha_AdaGrad)\n",
    "    r_Adam, d_Adam = Adam_OAIS(phi, pi, q, N, Niter_Adam, alpha=alpha_Adam)\n",
    "    results_array_Adam.append(r_Adam)\n",
    "    distribution_array_Adam.append(d_Adam)\n",
    "    results_array_AdaGrad.append(r_AdaGrad)\n",
    "    distribution_array_AdaGrad.append(d_AdaGrad)"
   ]
  },
  {
   "cell_type": "code",
   "execution_count": null,
   "metadata": {},
   "outputs": [],
   "source": []
  }
 ],
 "metadata": {
  "kernelspec": {
   "display_name": "tf",
   "language": "python",
   "name": "python3"
  },
  "language_info": {
   "codemirror_mode": {
    "name": "ipython",
    "version": 3
   },
   "file_extension": ".py",
   "mimetype": "text/x-python",
   "name": "python",
   "nbconvert_exporter": "python",
   "pygments_lexer": "ipython3",
   "version": "3.9.15"
  },
  "orig_nbformat": 4
 },
 "nbformat": 4,
 "nbformat_minor": 2
}
